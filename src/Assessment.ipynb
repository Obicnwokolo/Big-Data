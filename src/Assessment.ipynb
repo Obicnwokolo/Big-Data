inp = [1, 'A', 2, 'B', 3, 'C']
print(inp[::-1])